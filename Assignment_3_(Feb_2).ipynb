{
  "nbformat": 4,
  "nbformat_minor": 0,
  "metadata": {
    "colab": {
      "provenance": []
    },
    "kernelspec": {
      "name": "python3",
      "display_name": "Python 3"
    },
    "language_info": {
      "name": "python"
    }
  },
  "cells": [
    {
      "cell_type": "markdown",
      "source": [
        "#QN 1\n",
        "The characteristics of tuples are as follows:\n",
        "*  Item assignment is not possible for tuple.\n",
        "*  Tuples are written within parenthesis.\n",
        "*  Tuples can be manipulated (slicing, indexing,reversing,deleting,etc).\n",
        "*  Tuples are immutable unlike list.\n",
        "\n",
        "\n",
        "\n"
      ],
      "metadata": {
        "id": "UDsOuCEytVCR"
      }
    },
    {
      "cell_type": "markdown",
      "source": [
        "#QN 2\n",
        "The two tuple methods are count() and index(). There are only two tuple methods as tuples are designed to be immutable .Having a smaller set of methods simplifies the tuple implementation and fits well with their intended use cases, in contrast to list."
      ],
      "metadata": {
        "id": "DnSd9_f7ub7D"
      }
    },
    {
      "cell_type": "code",
      "source": [
        "#count method\n",
        "t1 = (2,3,5,2,2,24,5)\n",
        "c = t1.count(5)\n",
        "print(c)"
      ],
      "metadata": {
        "colab": {
          "base_uri": "https://localhost:8080/"
        },
        "id": "DGhcy0i_vXjf",
        "outputId": "8aa24466-a907-4660-f195-0dca1f5d9b16"
      },
      "execution_count": 1,
      "outputs": [
        {
          "output_type": "stream",
          "name": "stdout",
          "text": [
            "2\n"
          ]
        }
      ]
    },
    {
      "cell_type": "code",
      "source": [
        "#index method\n",
        "i = t1.index(3)\n",
        "print(i)"
      ],
      "metadata": {
        "colab": {
          "base_uri": "https://localhost:8080/"
        },
        "id": "3g6uQVBRvr5M",
        "outputId": "d0883933-2e3e-4702-fe60-ed68bfd0d43b"
      },
      "execution_count": 3,
      "outputs": [
        {
          "output_type": "stream",
          "name": "stdout",
          "text": [
            "1\n"
          ]
        }
      ]
    },
    {
      "cell_type": "markdown",
      "source": [
        "#QN 3\n",
        "Set datatypes in python do not allow duplication.\n"
      ],
      "metadata": {
        "id": "BeKTD6E1v7-q"
      }
    },
    {
      "cell_type": "code",
      "source": [
        "#removal of duplicates using set\n",
        "List = [1, 1, 1, 2, 1, 3, 1, 4, 2, 1, 2, 2, 2, 3, 2, 4, 3, 1, 3, 2, 3, 3, 3, 4, 4, 1, 4, 2, 4, 3, 4, 4]\n"
      ],
      "metadata": {
        "id": "lQsVGV3Pvy8_"
      },
      "execution_count": 4,
      "outputs": []
    },
    {
      "cell_type": "code",
      "source": [
        "set(List)"
      ],
      "metadata": {
        "colab": {
          "base_uri": "https://localhost:8080/"
        },
        "id": "odZFlhI7wM64",
        "outputId": "2b40853d-01f9-4442-9b27-894e0f704111"
      },
      "execution_count": 6,
      "outputs": [
        {
          "output_type": "execute_result",
          "data": {
            "text/plain": [
              "{1, 2, 3, 4}"
            ]
          },
          "metadata": {},
          "execution_count": 6
        }
      ]
    },
    {
      "cell_type": "markdown",
      "source": [
        "#QN 4\n",
        "The key difference between union() and update() is that union() returns a new set without modifying the original sets while  update() modifies the set on which it is called, adding elements from another set.\n"
      ],
      "metadata": {
        "id": "cpIUy7dTwW_E"
      }
    },
    {
      "cell_type": "code",
      "source": [
        "s1 = {5,7,9,11}\n",
        "s2 = {5,7,11}"
      ],
      "metadata": {
        "id": "tqC5nf3YwOZ-"
      },
      "execution_count": 7,
      "outputs": []
    },
    {
      "cell_type": "code",
      "source": [
        "s1.union(s2)"
      ],
      "metadata": {
        "colab": {
          "base_uri": "https://localhost:8080/"
        },
        "id": "knXI1N_fxAjo",
        "outputId": "0dc13d54-47a9-4749-a56b-aaf9f0b822fc"
      },
      "execution_count": 8,
      "outputs": [
        {
          "output_type": "execute_result",
          "data": {
            "text/plain": [
              "{5, 7, 9, 11}"
            ]
          },
          "metadata": {},
          "execution_count": 8
        }
      ]
    },
    {
      "cell_type": "code",
      "source": [
        "s1 # s1 is unchanged"
      ],
      "metadata": {
        "colab": {
          "base_uri": "https://localhost:8080/"
        },
        "id": "oDe3Fa66xEO-",
        "outputId": "19befa04-792f-42d7-9d08-fb067dbe7da9"
      },
      "execution_count": 9,
      "outputs": [
        {
          "output_type": "execute_result",
          "data": {
            "text/plain": [
              "{5, 7, 9, 11}"
            ]
          },
          "metadata": {},
          "execution_count": 9
        }
      ]
    },
    {
      "cell_type": "code",
      "source": [
        "s2.update(s1)"
      ],
      "metadata": {
        "id": "OPjRMDCPxGct"
      },
      "execution_count": 15,
      "outputs": []
    },
    {
      "cell_type": "code",
      "source": [
        "s2# s2 is modified"
      ],
      "metadata": {
        "colab": {
          "base_uri": "https://localhost:8080/"
        },
        "id": "TqxO--OaxL6y",
        "outputId": "8a311459-6cea-4643-d75a-435e75edca70"
      },
      "execution_count": 17,
      "outputs": [
        {
          "output_type": "execute_result",
          "data": {
            "text/plain": [
              "{5, 7, 9, 11}"
            ]
          },
          "metadata": {},
          "execution_count": 17
        }
      ]
    },
    {
      "cell_type": "markdown",
      "source": [
        "#QN 5\n",
        "Dictionary is a datatype in python which helps to store keys along with values.Starting from Python 3.7, dictionaries in Python maintain the order of insertion of key-value pairs. This means that, as of Python 3.7 and later versions, dictionaries are ordered. The order of items in a dictionary is based on the order in which they were added.\n"
      ],
      "metadata": {
        "id": "4Aaw9z5PxgCj"
      }
    },
    {
      "cell_type": "code",
      "source": [
        "dic = {\"name\":\"Ashmit\",\"age\":18,\"grade\":12}"
      ],
      "metadata": {
        "id": "G6heJYbtxNiT"
      },
      "execution_count": 19,
      "outputs": []
    },
    {
      "cell_type": "code",
      "source": [
        "dic"
      ],
      "metadata": {
        "colab": {
          "base_uri": "https://localhost:8080/"
        },
        "id": "_FUKmfqu0fxe",
        "outputId": "38dfa9f4-582e-4fdc-df69-b58b6550855f"
      },
      "execution_count": 20,
      "outputs": [
        {
          "output_type": "execute_result",
          "data": {
            "text/plain": [
              "{'name': 'Ashmit', 'age': 18, 'grade': 12}"
            ]
          },
          "metadata": {},
          "execution_count": 20
        }
      ]
    },
    {
      "cell_type": "code",
      "source": [
        "d1 = {\"color\":\"red\",\"game\":\"football\",\"d2\":{\"age\":18}}\n",
        "#Here d2 a new dictionary is added within a dictionary d1"
      ],
      "metadata": {
        "id": "HRc90T470jnF"
      },
      "execution_count": 27,
      "outputs": []
    },
    {
      "cell_type": "code",
      "source": [
        "d1"
      ],
      "metadata": {
        "colab": {
          "base_uri": "https://localhost:8080/"
        },
        "id": "jcb2JfDi1-lX",
        "outputId": "b9880186-074f-4056-fdc1-b43d92c1ab43"
      },
      "execution_count": 28,
      "outputs": [
        {
          "output_type": "execute_result",
          "data": {
            "text/plain": [
              "{'color': 'red', 'game': 'football', 'd2': {'age': 18}}"
            ]
          },
          "metadata": {},
          "execution_count": 28
        }
      ]
    },
    {
      "cell_type": "markdown",
      "source": [
        "#QN 7\n",
        "\n"
      ],
      "metadata": {
        "id": "JQfGHplQ2dC_"
      }
    },
    {
      "cell_type": "code",
      "source": [
        "dict1 = {\"lang\":\"Python\",\"course\":\"Data Science Masters\"}\n",
        "l1 = [\"Python\",\"ML\",\"Deep learning\"]"
      ],
      "metadata": {
        "id": "eTA4X8Uo2M-Q"
      },
      "execution_count": 39,
      "outputs": []
    },
    {
      "cell_type": "code",
      "source": [
        "dict1.setdefault(\"topic\",l1)"
      ],
      "metadata": {
        "colab": {
          "base_uri": "https://localhost:8080/"
        },
        "id": "iINYr76b4rFL",
        "outputId": "e630997a-9182-47c8-b2c2-d1597ca78ad9"
      },
      "execution_count": 40,
      "outputs": [
        {
          "output_type": "execute_result",
          "data": {
            "text/plain": [
              "['Python', 'ML', 'Deep learning']"
            ]
          },
          "metadata": {},
          "execution_count": 40
        }
      ]
    },
    {
      "cell_type": "code",
      "source": [
        "dict1"
      ],
      "metadata": {
        "colab": {
          "base_uri": "https://localhost:8080/"
        },
        "id": "RWIcpigX5Ex1",
        "outputId": "08479649-0d22-4592-a9d7-b6ea5a96b87e"
      },
      "execution_count": 41,
      "outputs": [
        {
          "output_type": "execute_result",
          "data": {
            "text/plain": [
              "{'lang': 'Python',\n",
              " 'course': 'Data Science Masters',\n",
              " 'topic': ['Python', 'ML', 'Deep learning']}"
            ]
          },
          "metadata": {},
          "execution_count": 41
        }
      ]
    },
    {
      "cell_type": "markdown",
      "source": [
        "#QN 8\n",
        "These are three view objects in dictionaries:\n",
        "1.  .keys()\n",
        "2.  .values()\n",
        "1.  .items()\n",
        "\n",
        "\n",
        "\n",
        "\n"
      ],
      "metadata": {
        "id": "CQM09Sc66GEi"
      }
    },
    {
      "cell_type": "code",
      "source": [
        "dict1 = {'Sport': 'Cricket' , 'Teams': ['India', 'Australia', 'England', 'South Africa', 'Sri Lanka', 'New Zealand']}"
      ],
      "metadata": {
        "id": "r7kjlq_Z5epJ"
      },
      "execution_count": 42,
      "outputs": []
    },
    {
      "cell_type": "code",
      "source": [
        "dict1.keys()"
      ],
      "metadata": {
        "colab": {
          "base_uri": "https://localhost:8080/"
        },
        "id": "zkOR5GZL7C5W",
        "outputId": "b4c43cfc-46fc-4bf3-a1f7-43ee5f84111a"
      },
      "execution_count": 45,
      "outputs": [
        {
          "output_type": "execute_result",
          "data": {
            "text/plain": [
              "dict_keys(['Sport', 'Teams'])"
            ]
          },
          "metadata": {},
          "execution_count": 45
        }
      ]
    },
    {
      "cell_type": "code",
      "source": [
        "dict1.values()"
      ],
      "metadata": {
        "colab": {
          "base_uri": "https://localhost:8080/"
        },
        "id": "Rnz_CffG7oAW",
        "outputId": "6f24ef61-e2c9-42e1-dbf9-82df16438d20"
      },
      "execution_count": 47,
      "outputs": [
        {
          "output_type": "execute_result",
          "data": {
            "text/plain": [
              "dict_values(['Cricket', ['India', 'Australia', 'England', 'South Africa', 'Sri Lanka', 'New Zealand']])"
            ]
          },
          "metadata": {},
          "execution_count": 47
        }
      ]
    },
    {
      "cell_type": "code",
      "source": [
        "dict1.items()"
      ],
      "metadata": {
        "colab": {
          "base_uri": "https://localhost:8080/"
        },
        "id": "5zUEBOcN73fi",
        "outputId": "2918ed47-abee-4b7b-bbee-e0482cbe4ba3"
      },
      "execution_count": 48,
      "outputs": [
        {
          "output_type": "execute_result",
          "data": {
            "text/plain": [
              "dict_items([('Sport', 'Cricket'), ('Teams', ['India', 'Australia', 'England', 'South Africa', 'Sri Lanka', 'New Zealand'])])"
            ]
          },
          "metadata": {},
          "execution_count": 48
        }
      ]
    },
    {
      "cell_type": "code",
      "source": [],
      "metadata": {
        "id": "gXuWsqAF8CSf"
      },
      "execution_count": null,
      "outputs": []
    }
  ]
}